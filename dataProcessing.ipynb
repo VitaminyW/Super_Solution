{
 "cells": [
  {
   "cell_type": "code",
   "execution_count": 13,
   "metadata": {},
   "outputs": [],
   "source": [
    "import torch\n",
    "from torchvision import transforms\n",
    "import tqdm\n",
    "import pathlib\n",
    "import os\n",
    "from PIL import Image"
   ]
  },
  {
   "cell_type": "code",
   "execution_count": 41,
   "metadata": {},
   "outputs": [],
   "source": [
    "def resize_fn(img, size):\n",
    "   return transforms.Resize(size, Image.BICUBIC)(\n",
    "            transforms.ToPILImage()(transforms.ToTensor()(img.copy().convert('RGB'))))"
   ]
  },
  {
   "cell_type": "code",
   "execution_count": 47,
   "metadata": {},
   "outputs": [],
   "source": [
    "mode = 'val'\n",
    "max_factor = 3\n",
    "root_folder = pathlib.Path('/home/yewei/liif_Data/')\n",
    "hr_folder = root_folder / mode\n",
    "lr_root_folder = root_folder / (mode + '_LR_bicubic')\n",
    "for i in range(1,max_factor+1):\n",
    "    scald = 2**(i)\n",
    "    lr_sub_folder = lr_root_folder / ('X'+str(scald))\n",
    "    if not os.path.exists(lr_sub_folder):\n",
    "        os.makedirs(lr_sub_folder)"
   ]
  },
  {
   "cell_type": "code",
   "execution_count": 48,
   "metadata": {},
   "outputs": [
    {
     "name": "stdout",
     "output_type": "stream",
     "text": [
      "There are 3 in folder\n"
     ]
    },
    {
     "name": "stderr",
     "output_type": "stream",
     "text": [
      "  0%|                                   | 0/3 [00:00<?, ?it/s]/home/yewei/miniconda3/envs/DCE_py37/lib/python3.7/site-packages/ipykernel_launcher.py:2: DeprecationWarning: BICUBIC is deprecated and will be removed in Pillow 10 (2023-07-01). Use Resampling.BICUBIC instead.\n",
      "  \n",
      "100%|███████████████████████████| 3/3 [00:02<00:00,  1.45it/s]\n"
     ]
    }
   ],
   "source": [
    "all_hr_images = list(hr_folder.glob('*.png'))\n",
    "print(f'There are {len(all_hr_images)} in folder')\n",
    "for image_path in tqdm.tqdm(all_hr_images):\n",
    "    image_name = image_path.stem\n",
    "    temp_image = Image.open(image_path)\n",
    "    for i in range(1,max_factor+1):\n",
    "        scald = 2**(i)\n",
    "        size = list(map(lambda item:int(item/scald),temp_image.size))\n",
    "        downsampled_image = resize_fn(temp_image,size[::-1]) # 完成测试\n",
    "        downsampled_image.save(lr_root_folder / ('X'+str(int(scald)))/(image_name+'x'+str(int(scald))+'.png'))"
   ]
  },
  {
   "cell_type": "code",
   "execution_count": 43,
   "metadata": {},
   "outputs": [],
   "source": [
    "temp_image.save('.temp2.png')\n",
    "downsampled_image.save('.temp.png')"
   ]
  }
 ],
 "metadata": {
  "kernelspec": {
   "display_name": "Python 3",
   "language": "python",
   "name": "python3"
  },
  "language_info": {
   "codemirror_mode": {
    "name": "ipython",
    "version": 3
   },
   "file_extension": ".py",
   "mimetype": "text/x-python",
   "name": "python",
   "nbconvert_exporter": "python",
   "pygments_lexer": "ipython3",
   "version": "2.7.5 (default, Oct 30 2018, 23:45:53) \n[GCC 4.8.5 20150623 (Red Hat 4.8.5-36)]"
  },
  "orig_nbformat": 4,
  "vscode": {
   "interpreter": {
    "hash": "e7370f93d1d0cde622a1f8e1c04877d8463912d04d973331ad4851f04de6915a"
   }
  }
 },
 "nbformat": 4,
 "nbformat_minor": 2
}
